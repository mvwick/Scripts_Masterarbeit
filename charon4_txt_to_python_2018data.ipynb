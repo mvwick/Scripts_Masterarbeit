{
 "metadata": {
  "language_info": {
   "codemirror_mode": {
    "name": "ipython",
    "version": 3
   },
   "file_extension": ".py",
   "mimetype": "text/x-python",
   "name": "python",
   "nbconvert_exporter": "python",
   "pygments_lexer": "ipython3",
   "version": "3.8.12"
  },
  "orig_nbformat": 2,
  "kernelspec": {
   "name": "python3",
   "display_name": "Python 3.8.12 64-bit (conda)"
  },
  "interpreter": {
   "hash": "29bb46dac4ac1939543a1997a987c8ba0e6eacd9d5e001c58572fbace647ecc5"
  }
 },
 "nbformat": 4,
 "nbformat_minor": 2,
 "cells": [
  {
   "cell_type": "markdown",
   "source": [
    "# Charon4 txt to Python, 2018 data\r\n",
    "\r\n",
    "The results of this script are stored in `..\\Alsdorf\\Daten\\my_database`. The goal of this database is to contain all data in an easy to read format.\r\n",
    "\r\n",
    "# different export settings compared to the recent data!\r\n",
    "The following screenshot shows the expected settings while exporting the 2018 data. They are exported per day, for easier reading of the different cable lengths.\r\n",
    "\r\n",
    "<img src=\".\\pictures\\Charon4_export_window_txt_2018_day.png\" alt=\"drawing\" width=\"500\"/>"
   ],
   "metadata": {}
  },
  {
   "cell_type": "code",
   "execution_count": 1,
   "source": [
    "# To-Do \r\n",
    "# TRT Daten von Sciebo hinzufügen\r\n",
    "# Temp. Sonde in Eduardschacht angucken und vergleichen\r\n",
    "\r\n",
    "version=\"v1_1\"\r\n",
    "# Changelog\r\n",
    "#v1_0: extracted this notebook from charon4_txt_to_python\r\n",
    "# resolved a problem where the data with 0.5 sampling was imported into a to big dataframe; \r\n",
    "# pickle and csv data are now saved with the same format\r\n",
    "#v1_1: removed measurement per day plot from this script and added it to my_database_script\r\n",
    "\r\n",
    "# not all of these are needed\r\n",
    "import numpy as np\r\n",
    "import pandas as pd\r\n",
    "import glob\r\n",
    "import matplotlib.pyplot as plt\r\n",
    "#from matplotlib import colors\r\n",
    "from datetime import date, timedelta\r\n",
    "from collections import defaultdict\r\n",
    "#from collections import Counter\r\n",
    "#import matplotlib.patches as patches\r\n",
    "#import matplotlib.dates as mdates\r\n",
    "#from shutil import copy2 as copy_file\r\n",
    "import pickle\r\n",
    "\r\n",
    "from my_func_mvw.functions import get_abspath"
   ],
   "outputs": [],
   "metadata": {}
  },
  {
   "cell_type": "code",
   "execution_count": 2,
   "source": [
    "# Input\r\n",
    "#path to working directory\r\n",
    "#mit \\[-]\\ im Pfad funktioniert die get_abspath Funktion nicht\r\n",
    "\r\n",
    "##############Input##############################\r\n",
    "path_to_controller=r\"..\\Alsdorf\\Daten\\unprocessed\\Charon4\\charon4_export_as_txt\" #also used for saving plots\r\n",
    "data_save_csv    =True # True False; data saving takes about 1 min.\r\n",
    "data_save_pickle =True # True False; takes less than 1 s.\r\n",
    "##################################################"
   ],
   "outputs": [],
   "metadata": {}
  },
  {
   "cell_type": "code",
   "execution_count": 3,
   "source": [
    "controller=3188 # 3188: Alsdorf\r\n",
    "# generate all requested paths, some paths may be empty\r\n",
    "path_to_controller_2018_day=r\"..\\Alsdorf\\Daten\\unprocessed\\Charon4\\charon4_export_as_txt\\2018_export_by_day\"\r\n",
    "year=\"2018\"\r\n",
    "channels=[1,2,3,4,5,6,7,8] #[1,2,3,4,5,6,7,8]\r\n",
    "months=[1,2,3,4,5,6,7,8,9,10,11,12] #[1,2,3,4,5,6,7,8,9,10,11,12]\r\n",
    "paths_for_activate_2018_day={}\r\n",
    "\r\n",
    "for channel in channels:\r\n",
    "    for month in months:\r\n",
    "        paths_for_activate_2018_day[f\"temp_ch{channel}_year2018_month{month}\"] = path_to_controller_2018_day + f\"\\Controller\\{controller}\\{channel}\\Temperature Data\\{year}\\{month}\"\r\n",
    "\r\n",
    "#paths_for_activate_2018_day"
   ],
   "outputs": [],
   "metadata": {}
  },
  {
   "cell_type": "code",
   "execution_count": 4,
   "source": [
    "def import_temp_to_df_2018(path):\r\n",
    "    \"\"\"\"\"\"\r\n",
    "    one_file = pd.read_csv(path,decimal=\".\",delimiter=\"\\t\",skiprows=7,index_col=0)\r\n",
    "    one_file = one_file.drop(one_file.columns[0:2],axis=1)\r\n",
    "    one_file.index = pd.to_datetime(one_file.index, infer_datetime_format=True)\r\n",
    "    #one_file.rename(columns=lambda x: float(x), inplace=True) # when sampling is 0.5 m, int values are not sufficient\r\n",
    "    # thats easier to read, and has the same result?\r\n",
    "    one_file.columns = one_file.columns.astype(float)\r\n",
    "    one_file.index.names = ['Date']\r\n",
    "    one_file.columns.names=[\"Length [m]\"]\r\n",
    "    return one_file\r\n",
    "\r\n",
    "def create_base_dataframe(n_columns,sampling_05=False):\r\n",
    "    \"\"\"\"\"\"\r\n",
    "    if sampling_05==False: #sampling interval is 1 m\r\n",
    "        df=pd.DataFrame(columns=np.linspace(0,n_columns-1,n_columns))\r\n",
    "        df.rename(columns=lambda x: float(x), inplace=True) #to have all 2018 data data as float\r\n",
    "    elif sampling_05==True:\r\n",
    "        df=pd.DataFrame(columns=np.linspace(0,(n_columns-1)/2,n_columns))\r\n",
    "    df.index.names = ['Date']\r\n",
    "    df.columns.names=[\"Length [m]\"]\r\n",
    "    return df"
   ],
   "outputs": [],
   "metadata": {}
  },
  {
   "cell_type": "code",
   "execution_count": 5,
   "source": [
    "#2min 17s\r\n",
    "\r\n",
    "# TO-DO !!!!!!!!!!!!!!!!!!!!!!!!!!!!!!!!!!!!!!!!!!!!!!!!!\r\n",
    "# check if one day folder contains more than one file\r\n",
    "\r\n",
    "# create dic depending on channelnumber and cable length\r\n",
    "cable_lengths_2018=[233,1314,2340,1171,1170,798,259,799,268,1352,676,223,378,250,800]\r\n",
    "#all_files=defaultdict(dict) #two level defaultdict\r\n",
    "#all_files = defaultdict(lambda: defaultdict(dict)) ##two level defaultdict, different style\r\n",
    "# data_2018_day, is named day because the data is exported different from Charon4, than the data from the other years\r\n",
    "data_2018_day=my_dict = defaultdict(lambda: defaultdict(lambda: defaultdict(dict))) #three level defaultdict\r\n",
    "for channel in channels:\r\n",
    "    for cable_type in cable_lengths_2018:\r\n",
    "        for month in months:\r\n",
    "\r\n",
    "            if cable_type in [233,1314,1171,1170,798,259,799,268,676,223,378,250,800]: # sampling interval is 1 m\r\n",
    "                data_2018_day[cable_type][str(channel)][str(month)] = create_base_dataframe(cable_type)\r\n",
    "\r\n",
    "            elif cable_type in [2340, 1352]: #sampling interval is 0.5 m instead of 1 m\r\n",
    "                data_2018_day[cable_type][str(channel)][str(month)] = create_base_dataframe(cable_type,sampling_05=True)\r\n",
    "\r\n",
    "# Read the data\r\n",
    "count_ParserError=0\r\n",
    "for channel in channels:\r\n",
    "    for month in months: #path could be empty --> no data \r\n",
    "        my_path=paths_for_activate_2018_day[f\"temp_ch{channel}_year2018_month{month}\"]\r\n",
    "        all_my_paths=get_abspath(my_path + \"\\*\\*\") \r\n",
    "\r\n",
    "        for file in all_my_paths:\r\n",
    "            # check cable length and create different dataframes\r\n",
    "\r\n",
    "            try: \r\n",
    "                # Read Data\r\n",
    "                one_file = import_temp_to_df_2018(file)\r\n",
    "\r\n",
    "                #check cable length and put it in corresponding dataframe\r\n",
    "                n_columns=len(one_file.columns)\r\n",
    "                data_2018_day[n_columns][str(channel)][str(month)]=pd.concat([data_2018_day[n_columns][str(channel)][str(month)],one_file],axis=0)\r\n",
    "                # doppelte datums tauchen auf\r\n",
    "\r\n",
    "            # except ParserError, file contains data with different cable lengths\r\n",
    "            # With this solution I will skip these data.\r\n",
    "            except pd.errors.ParserError:\r\n",
    "                count_ParserError+=1\r\n",
    "                pass\r\n",
    "\r\n",
    "print(f\"{count_ParserError} ParserErrors were skipped. This means {count_ParserError} days with data are not read!\")        "
   ],
   "outputs": [
    {
     "output_type": "stream",
     "name": "stdout",
     "text": [
      "2 ParserErrors were skipped. This means 2 days with data are not read!\n"
     ]
    }
   ],
   "metadata": {}
  },
  {
   "cell_type": "code",
   "execution_count": 6,
   "source": [
    "def save_helper(data_2018_day,channel,cable_length,create_base_dataframe=create_base_dataframe):\r\n",
    "    \"\"\"merges different month for each channel into one dataframe\"\"\"\r\n",
    "    if cable_length in [233,1314,1171,1170,798,259,799,268,676,223,378,250,800]: # sampling interval is 1 m\r\n",
    "        data_2018_day_save = create_base_dataframe(cable_length)\r\n",
    "    elif cable_length in [2340, 1352]: #sampling interval is 0.5 m instead of 1 m\r\n",
    "        data_2018_day_save = create_base_dataframe(cable_length,sampling_05=True)\r\n",
    "\r\n",
    "    for month in data_2018_day[cable_length][channel].keys():\r\n",
    "        one_file = data_2018_day[cable_length][channel][month]\r\n",
    "        data_2018_day_save = pd.concat([data_2018_day_save , one_file],axis=0) \r\n",
    "\r\n",
    "    return data_2018_day_save"
   ],
   "outputs": [],
   "metadata": {}
  },
  {
   "cell_type": "code",
   "execution_count": 7,
   "source": [
    "#49.1 s\r\n",
    "# Save Data 2018 csv\r\n",
    "if data_save_csv:\r\n",
    "    save_to_path = path_to_controller + r\"\\..\\..\\..\\my_database\\temp_2018_Controller3188\\csv\"\r\n",
    "    #path_to_controller + \"\\..\\..\\my_database\"\r\n",
    "    for cable_length in data_2018_day.keys():\r\n",
    "        for channel in data_2018_day[cable_length].keys():\r\n",
    "            data_2018_day_save = save_helper(data_2018_day,channel,cable_length)\r\n",
    "\r\n",
    "            # Save data\r\n",
    "            if data_2018_day_save.shape[0]!=0: # dataframe contains rows (with data)\r\n",
    "                filename=f\"\\\\temp_cablelength{cable_length}_ch{channel}.csv\"\r\n",
    "                data_2018_day_save.to_csv(save_to_path + filename)"
   ],
   "outputs": [
    {
     "output_type": "stream",
     "name": "stdout",
     "text": [
      "Wall time: 20.8 s\n"
     ]
    }
   ],
   "metadata": {}
  },
  {
   "cell_type": "code",
   "execution_count": 8,
   "source": [
    "# 11.7 s\r\n",
    "# Save Data 2018 pickle\r\n",
    "if data_save_pickle:\r\n",
    "    def write_pickle(save_to:str,data_2018_day):\r\n",
    "        #Function to write pickle Files\r\n",
    "        for cable_length in data_2018_day.keys():\r\n",
    "            for channel in data_2018_day[cable_length].keys():\r\n",
    "                data_2018_day_save = save_helper(data_2018_day,channel,cable_length)\r\n",
    "\r\n",
    "                #if len(data_2018_day[cable_length][channel].keys()) != 0:\r\n",
    "                if data_2018_day_save.shape[0]!=0: # dataframe contains rows (with data)\r\n",
    "                    filename=f\"\\\\temp_cablelength{cable_length}_ch{channel}\"\r\n",
    "                    with open(save_to + filename, 'wb') as handle:\r\n",
    "                        pickle.dump(data_2018_day_save, handle, protocol=pickle.HIGHEST_PROTOCOL)\r\n",
    "\r\n",
    "\r\n",
    "    save_to_path_pickle = path_to_controller + r\"\\..\\..\\..\\my_database\\temp_2018_Controller3188\\pickle\"\r\n",
    "    write_pickle(save_to_path_pickle,data_2018_day)\r\n",
    "\r\n",
    "\r\n",
    "    # Load pickle data - test\r\n",
    "    def read_pickle(filename:str):\r\n",
    "        #Function to read pickle Files\r\n",
    "        with open(filename, 'rb') as f:\r\n",
    "            return pickle.load(f)\r\n",
    "    filename=r\"\\temp_cablelength378_ch5\"\r\n",
    "    load_file_pickle = save_to_path_pickle + filename\r\n",
    "    test_load_pickle=read_pickle(load_file_pickle)\r\n",
    "    #test_load_pickle"
   ],
   "outputs": [
    {
     "output_type": "stream",
     "name": "stdout",
     "text": [
      "Wall time: 2.75 s\n"
     ]
    }
   ],
   "metadata": {}
  },
  {
   "cell_type": "code",
   "execution_count": null,
   "source": [],
   "outputs": [],
   "metadata": {}
  }
 ]
}