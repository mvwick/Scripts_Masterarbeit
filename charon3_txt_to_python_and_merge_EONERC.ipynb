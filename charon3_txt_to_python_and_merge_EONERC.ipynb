{
 "cells": [
  {
   "cell_type": "markdown",
   "source": [
    "# Import the txt files from Charon3 and merge them with the data from charon4\r\n",
    "For the EONERC data\r\n"
   ],
   "metadata": {}
  },
  {
   "cell_type": "code",
   "execution_count": 19,
   "source": [
    "version=\"v1_0\"\r\n",
    "\r\n",
    "import numpy as np\r\n",
    "import pandas as pd\r\n",
    "import glob\r\n",
    "import matplotlib.pyplot as plt\r\n",
    "#from datetime import date, timedelta\r\n",
    "from collections import defaultdict\r\n",
    "#from shutil import copy2 as copy_file\r\n",
    "import pickle\r\n",
    "\r\n",
    "from my_func_mvw.functions import get_abspath, read_pickle, write_pickle, read_pickle\r\n",
    "from my_func_mvw.functions_import_my_database import merge_data_year,import_my_database_pickle\r\n",
    "\r\n",
    "print(\"Some Version information of the imported packages\")\r\n",
    "print(f\"pandas: {pd.__version__}\")\r\n",
    "print(f\"pickle: {pickle.format_version}\")\r\n",
    "!python --version"
   ],
   "outputs": [
    {
     "output_type": "stream",
     "name": "stdout",
     "text": [
      "Some Version information of the imported packages\n",
      "pandas: 1.3.4\n",
      "pickle: 4.0\n",
      "Python 3.8.12\n"
     ]
    }
   ],
   "metadata": {}
  },
  {
   "cell_type": "code",
   "execution_count": 20,
   "source": [
    "#path to working directory\r\n",
    "#mit \\[-]\\ im Pfad funktioniert die get_abspath Funktion nicht\r\n",
    "# add additional paths to list, if you exported new data from Charon4\r\n",
    "# if you have a lot of different paths to controller files, consider exporting the whole databse from Charon4 again\r\n",
    "# this would increase the speed of this script (having less paths to controllers)\r\n",
    "# but the export from Charon4 takes some time\r\n",
    "# selecting the same repository in Charon4 does not work. Doing that, every file is copied at the end of its counterpart.\r\n",
    "\r\n",
    "############Input###################\r\n",
    "path_to_EONERC_data=r\"..\\EONERC\\Data\"\r\n",
    "data_save_csv=False # True False; not implementet yet\r\n",
    "data_save_pickle=True #True False; \r\n",
    "# 3188 is in Alsdorf; 3195 in EONERC\r\n",
    "controller=3195 # only 3195 is used in this notebook at the moment\r\n",
    "\r\n",
    "path_to_charon3_EONERC=[\r\n",
    "    r\"..\\EONERC\\Data\\unprocessed\\charon3_export_as_txt\"\r\n",
    "]\r\n",
    "######################################"
   ],
   "outputs": [],
   "metadata": {}
  },
  {
   "cell_type": "code",
   "execution_count": null,
   "source": [],
   "outputs": [],
   "metadata": {}
  },
  {
   "cell_type": "code",
   "execution_count": 21,
   "source": [
    "def import_temp_to_df(path):\r\n",
    "    \"\"\"\"\"\"\r\n",
    "    #df = pd.read_csv(path,skiprows=7,decimal=\".\",delimiter=\"\\t\",index_col=0,error_bad_lines=False,warn_bad_lines=False)\r\n",
    "    df=pd.read_csv(path, skiprows=3,decimal=\",\",delimiter=\"\\t\",index_col=1, dtype=float, encoding=\"unicode_escape\")\r\n",
    "    df = df.drop(df.columns[0],axis=1)\r\n",
    "    df=df.T\r\n",
    "    df.index.names = ['Date']\r\n",
    "    df.index = pd.to_datetime(df.index, infer_datetime_format=True)\r\n",
    "    df.rename(columns=lambda x: int(float(x)), inplace=True)\r\n",
    "    df.columns.names=[\"Length [m]\"]\r\n",
    "    return df"
   ],
   "outputs": [],
   "metadata": {}
  },
  {
   "cell_type": "code",
   "execution_count": 22,
   "source": [
    "channels=[\"1\",\"2\",\"3\",\"4\",\"5\",\"6\",\"8\",\"9\",\"10\",\"11\"]\r\n",
    "data_2020_charon3={}\r\n",
    "for chan in channels:\r\n",
    "    data_2020_charon3[chan] = import_temp_to_df(path_to_charon3_EONERC[0] + f\"\\\\chan{chan}.TXT\")"
   ],
   "outputs": [],
   "metadata": {}
  },
  {
   "cell_type": "code",
   "execution_count": 23,
   "source": [
    "# Save data\r\n",
    "path_to_my_database_EONERC = path_to_EONERC_data\r\n",
    "path_to_my_database = path_to_my_database_EONERC + \"\\\\unprocessed\"\r\n",
    "\r\n",
    "if data_save_pickle:\r\n",
    "    save_to_pickle = path_to_my_database + \"\\\\data_from_charon3\\\\all_charon3_data_pickle\"\r\n",
    "    write_pickle(save_to_pickle, data_2020_charon3)"
   ],
   "outputs": [],
   "metadata": {}
  },
  {
   "cell_type": "markdown",
   "source": [
    "# Merge data from Charon3 and Charon4"
   ],
   "metadata": {}
  },
  {
   "cell_type": "code",
   "execution_count": 24,
   "source": [
    "data_charon4 = import_my_database_pickle(2021,path_to_my_database + \"\\\\data_from_charon4\\\\pickle\", controller=3195)\r\n",
    "\r\n"
   ],
   "outputs": [],
   "metadata": {}
  },
  {
   "cell_type": "code",
   "execution_count": 25,
   "source": [
    "data_2021=data_charon4\r\n",
    "data_2020=data_2020_charon3"
   ],
   "outputs": [],
   "metadata": {}
  },
  {
   "cell_type": "code",
   "execution_count": 26,
   "source": [
    "data_all={}\r\n",
    "for channel in channels:\r\n",
    "    data_all[channel]=pd.concat([data_charon4[channel],data_2020_charon3[channel]])\r\n",
    "    data_all[channel]=data_all[channel].sort_index()"
   ],
   "outputs": [],
   "metadata": {}
  },
  {
   "cell_type": "code",
   "execution_count": 27,
   "source": [
    "# Save data\r\n",
    "path_to_my_database = path_to_EONERC_data\r\n",
    "\r\n",
    "if data_save_pickle:\r\n",
    "    #save_to_pickle = path_to_my_database + \"\\\\all_data_pickle\"\r\n",
    "    #write_pickle(save_to_pickle, data_all)\r\n",
    "\r\n",
    "    save_to_pickle = path_to_my_database + \"\\\\all_data\"\r\n",
    "    write_pickle(save_to_pickle, data_all)\r\n",
    "\r\n",
    "    # not needed to save them again at the moment\r\n",
    "    # save_to_pickle = path_to_my_database + \"\\\\2021_pickle\"\r\n",
    "    # write_pickle(save_to_pickle, data_2021)"
   ],
   "outputs": [],
   "metadata": {}
  },
  {
   "cell_type": "code",
   "execution_count": null,
   "source": [],
   "outputs": [],
   "metadata": {}
  }
 ],
 "metadata": {
  "orig_nbformat": 4,
  "language_info": {
   "name": "python",
   "version": "3.8.12",
   "mimetype": "text/x-python",
   "codemirror_mode": {
    "name": "ipython",
    "version": 3
   },
   "pygments_lexer": "ipython3",
   "nbconvert_exporter": "python",
   "file_extension": ".py"
  },
  "kernelspec": {
   "name": "python3",
   "display_name": "Python 3.8.12 64-bit (conda)"
  },
  "interpreter": {
   "hash": "29bb46dac4ac1939543a1997a987c8ba0e6eacd9d5e001c58572fbace647ecc5"
  }
 },
 "nbformat": 4,
 "nbformat_minor": 2
}