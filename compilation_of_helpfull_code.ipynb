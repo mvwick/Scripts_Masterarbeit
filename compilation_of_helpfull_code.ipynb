{
 "metadata": {
  "language_info": {
   "codemirror_mode": {
    "name": "ipython",
    "version": 3
   },
   "file_extension": ".py",
   "mimetype": "text/x-python",
   "name": "python",
   "nbconvert_exporter": "python",
   "pygments_lexer": "ipython3",
   "version": 3
  },
  "orig_nbformat": 2
 },
 "nbformat": 4,
 "nbformat_minor": 2,
 "cells": [
  {
   "source": [
    "Hier werde ich viele verschiedene Skripte sammeln, die im Moment keinen Nutzen in einem von meinen anderen Notebooks haben. Evntl. kann ich die Sachen hier später noch gebrauchen."
   ],
   "cell_type": "markdown",
   "metadata": {}
  },
  {
   "cell_type": "code",
   "execution_count": null,
   "metadata": {},
   "outputs": [],
   "source": [
    "# Replace , with . in all files of a given paths\n",
    "\n",
    "def get_abspath(basepath):\n",
    "    \"\"\"Get the files you need to import into your script with Path\n",
    "    Returns a list of all filepaths (or folderpaths) of the files (or folders) in a repository.\n",
    "    The repository is given this function with basepath.\n",
    "    \"\"\"\n",
    "    df_list = []\n",
    "    basepath = glob.glob(basepath)\n",
    "    for entry in basepath:\n",
    "        df_list.append(entry)\n",
    "    return (df_list)\n",
    "\n",
    "def replace_comma_with_dot_in_all_files(all_paths):\n",
    "    \"\"\"replace all \",\" with \".\" in all files of all_paths\"\"\"\n",
    "    for path in all_paths:\n",
    "        # Read in the file\n",
    "        with open(path, 'r') as file :\n",
    "            filedata = file.read()\n",
    "\n",
    "        # Replace the target string\n",
    "        filedata = filedata.replace(',', '.')\n",
    "\n",
    "        # Write the file out again\n",
    "        with open(path, 'w') as file:\n",
    "            file.write(filedata)\n",
    "\n",
    "import glob\n",
    "all_paths=get_abspath(r\".\\path\\to\\the\\files\\with\\kommas\\*\")\n",
    "replace_comma_with_dot_in_all_files(all_paths)"
   ]
  },
  {
   "cell_type": "code",
   "execution_count": null,
   "metadata": {},
   "outputs": [],
   "source": []
  },
  {
   "cell_type": "code",
   "execution_count": null,
   "metadata": {},
   "outputs": [],
   "source": []
  },
  {
   "cell_type": "code",
   "execution_count": null,
   "metadata": {},
   "outputs": [],
   "source": []
  },
  {
   "cell_type": "code",
   "execution_count": null,
   "metadata": {},
   "outputs": [],
   "source": []
  },
  {
   "cell_type": "code",
   "execution_count": null,
   "metadata": {},
   "outputs": [],
   "source": []
  }
 ]
}